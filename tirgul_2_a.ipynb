{
 "cells": [
  {
   "cell_type": "code",
   "execution_count": 3,
   "metadata": {
    "ExecuteTime": {
     "end_time": "2025-06-11T16:28:18.783465400Z",
     "start_time": "2025-06-11T16:28:18.707609700Z"
    }
   },
   "outputs": [
    {
     "ename": "ModuleNotFoundError",
     "evalue": "No module named 'sklearn'",
     "output_type": "error",
     "traceback": [
      "\u001B[31m---------------------------------------------------------------------------\u001B[39m",
      "\u001B[31mModuleNotFoundError\u001B[39m                       Traceback (most recent call last)",
      "\u001B[36mCell\u001B[39m\u001B[36m \u001B[39m\u001B[32mIn[3]\u001B[39m\u001B[32m, line 3\u001B[39m\n\u001B[32m      1\u001B[39m \u001B[38;5;28;01mimport\u001B[39;00m\u001B[38;5;250m \u001B[39m\u001B[34;01mnumpy\u001B[39;00m\u001B[38;5;250m \u001B[39m\u001B[38;5;28;01mas\u001B[39;00m\u001B[38;5;250m \u001B[39m\u001B[34;01mnp\u001B[39;00m\n\u001B[32m      2\u001B[39m \u001B[38;5;28;01mimport\u001B[39;00m\u001B[38;5;250m \u001B[39m\u001B[34;01mmatplotlib\u001B[39;00m\u001B[34;01m.\u001B[39;00m\u001B[34;01mpyplot\u001B[39;00m\u001B[38;5;250m \u001B[39m\u001B[38;5;28;01mas\u001B[39;00m\u001B[38;5;250m \u001B[39m\u001B[34;01mplt\u001B[39;00m\n\u001B[32m----> \u001B[39m\u001B[32m3\u001B[39m \u001B[38;5;28;01mfrom\u001B[39;00m\u001B[38;5;250m \u001B[39m\u001B[34;01msklearn\u001B[39;00m\u001B[34;01m.\u001B[39;00m\u001B[34;01mcluster\u001B[39;00m\u001B[38;5;250m \u001B[39m\u001B[38;5;28;01mimport\u001B[39;00m KMeans\n\u001B[32m      4\u001B[39m \u001B[38;5;28;01mfrom\u001B[39;00m\u001B[38;5;250m \u001B[39m\u001B[34;01mPIL\u001B[39;00m\u001B[38;5;250m \u001B[39m\u001B[38;5;28;01mimport\u001B[39;00m Image\n\u001B[32m      5\u001B[39m \u001B[38;5;28;01mfrom\u001B[39;00m\u001B[38;5;250m \u001B[39m\u001B[34;01mcopy\u001B[39;00m\u001B[38;5;250m \u001B[39m\u001B[38;5;28;01mimport\u001B[39;00m deepcopy\n",
      "\u001B[31mModuleNotFoundError\u001B[39m: No module named 'sklearn'"
     ]
    }
   ],
   "source": [
    "import numpy as np\n",
    "import matplotlib.pyplot as plt\n",
    "from sklearn.cluster import KMeans\n",
    "from PIL import Image\n",
    "from copy import deepcopy"
   ]
  },
  {
   "cell_type": "code",
   "execution_count": null,
   "metadata": {
    "ExecuteTime": {
     "start_time": "2025-06-11T16:27:33.725749300Z"
    }
   },
   "outputs": [],
   "source": [
    "# 1. Load and display image\n",
    "image = Image.open('image.png').convert('L')  # Grayscale\n",
    "img_array = np.array(image)\n",
    "plt.imshow(img_array, cmap='gray')\n",
    "plt.title(\"Original Image\")\n",
    "plt.axis('off')\n",
    "plt.show()"
   ]
  },
  {
   "cell_type": "code",
   "execution_count": null,
   "metadata": {
    "ExecuteTime": {
     "start_time": "2025-06-11T16:27:33.729752200Z"
    }
   },
   "outputs": [],
   "source": [
    "image.size          # Get the size of the image"
   ]
  },
  {
   "cell_type": "code",
   "execution_count": null,
   "metadata": {
    "ExecuteTime": {
     "start_time": "2025-06-11T16:27:33.735753100Z"
    }
   },
   "outputs": [],
   "source": [
    "img_array.size      # Get the shape of the image array (height, width)"
   ]
  },
  {
   "cell_type": "code",
   "execution_count": null,
   "metadata": {
    "ExecuteTime": {
     "start_time": "2025-06-11T16:27:33.738751Z"
    }
   },
   "outputs": [],
   "source": [
    "# 2. Plot histogram and cumulative histogram\n",
    "hist, bins = np.histogram(img_array.flatten(), bins=256, range=[0,256])\n",
    "cum_hist = np.cumsum(hist)\n",
    "\n",
    "# Plot side by side\n",
    "fig, axs = plt.subplots(1, 2, figsize=(12, 4))\n",
    "\n",
    "# Plot histogram\n",
    "axs[0].bar(range(256), hist, color='blue')\n",
    "axs[0].set_title('Histogram')\n",
    "axs[0].set_xlabel('Intensity Value')\n",
    "axs[0].set_ylabel('Frequency')\n",
    "\n",
    "# Plot cumulative histogram\n",
    "axs[1].plot(range(256), cum_hist, color='red')\n",
    "axs[1].set_title('Cumulative Histogram')\n",
    "axs[1].set_xlabel('Intensity Value')\n",
    "axs[1].set_ylabel('Cumulative Count')\n",
    "\n",
    "plt.tight_layout()\n",
    "plt.show()"
   ]
  },
  {
   "cell_type": "code",
   "execution_count": null,
   "metadata": {
    "ExecuteTime": {
     "start_time": "2025-06-11T16:27:33.740752700Z"
    }
   },
   "outputs": [],
   "source": [
    "# 3. Quantization by reducing bit-depth (e.g., to 2 bits, 4 levels)\n",
    "def quantize_image(img, bits):\n",
    "    levels = 2 ** bits         # Total number of intensity levels for the given bit-depth\n",
    "    factor = 256 // levels     # Size of each quantization step\n",
    "    quantized = (img // factor) * factor    # Reduce bit-depth: divide by factor (integer division), then multiply to scale back\n",
    "                                            # This maps pixel values to their nearest lower quantization level\n",
    "    return quantized\n",
    "\n",
    "quant_img = quantize_image(img_array, 2)      ### Play with this value to see different quantization levels\n",
    "plt.imshow(quant_img, cmap='gray')\n",
    "plt.title('Quantized Image (2 bits)')\n",
    "plt.axis('off')\n",
    "plt.show()"
   ]
  },
  {
   "cell_type": "code",
   "execution_count": null,
   "metadata": {
    "ExecuteTime": {
     "start_time": "2025-06-11T16:27:33.744753200Z"
    }
   },
   "outputs": [],
   "source": [
    "# 4. K-means clustering for k representative colors\n",
    "def kmeans_quantization(img, k):\n",
    "    flat = img.flatten().reshape(-1, 1)\n",
    "    \n",
    "    # Initialize and fit K-means\n",
    "    kmeans = KMeans(n_clusters=k, n_init=10, random_state=0)         \n",
    "    kmeans.fit(flat)\n",
    "    \n",
    "    # Replace each pixel with its cluster center\n",
    "    clustered = kmeans.cluster_centers_[kmeans.labels_].reshape(img.shape)\n",
    "    return clustered.astype(np.uint8)\n",
    "\n",
    "kmeans_img = kmeans_quantization(img_array, 2)     ### Play with k value\n",
    "plt.imshow(kmeans_img, cmap='gray')\n",
    "plt.title('K-means Quantized (k=2)')\n",
    "plt.axis('off')\n",
    "plt.show()"
   ]
  },
  {
   "cell_type": "code",
   "execution_count": null,
   "metadata": {
    "ExecuteTime": {
     "start_time": "2025-06-11T16:27:33.745759200Z"
    }
   },
   "outputs": [],
   "source": [
    "# 5. Weighted Mean Calculation\n",
    "def weighted_mean(hist, bins):\n",
    "    return np.sum(hist * bins[:-1]) / np.sum(hist)\n",
    "\n",
    "mean_val = weighted_mean(hist, bins)\n",
    "print(f'Weighted Mean Intensity: {mean_val:.2f}')"
   ]
  },
  {
   "cell_type": "code",
   "execution_count": null,
   "metadata": {
    "ExecuteTime": {
     "start_time": "2025-06-11T16:27:33.749752300Z"
    }
   },
   "outputs": [],
   "source": [
    "# 6. Multi-level Quantization with boundary adjustment\n",
    "def multi_level_quantization(img, k, max_iters=100):\n",
    "    lower = 0\n",
    "    upper = 255\n",
    "    boundaries = np.linspace(lower, upper, k+1)         # Initialize boundaries evenly spaced between 0 and 255\n",
    "    img_flat = img.flatten()\n",
    "    prev_mse = None\n",
    "    \n",
    "    for iteration in range(max_iters):\n",
    "        means = []\n",
    "        \n",
    "        # Step 1: Compute the mean of pixel values in each bin\n",
    "        for i in range(k):\n",
    "            # Create a boolean mask for the current bin\n",
    "            # The mask is a boolean array that marks which pixels fall within the current bin [boundaries[i], boundaries[i+1])\n",
    "            # For example, mask[j] = True if img_flat[j] is inside the i-th bin, False otherwise           \n",
    "            mask = (img_flat >= boundaries[i]) & (img_flat < boundaries[i+1])\n",
    "            if np.sum(mask) == 0:\n",
    "\n",
    "                # If no pixels fall in this bin, use the midpoint as the mean\n",
    "                mean = (boundaries[i] + boundaries[i+1]) / 2\n",
    "            else:\n",
    "                # Otherwise compute the mean of the pixels in this bin\n",
    "                mean = np.mean(img_flat[mask])\n",
    "            means.append(mean)\n",
    "\n",
    "        # Step 2: Adjust internal boundaries based on means\n",
    "        new_boundaries = deepcopy(boundaries)\n",
    "        for i in range(1, k):\n",
    "            new_boundaries[i] = (means[i-1] + means[i]) / 2\n",
    "        boundaries = new_boundaries\n",
    "\n",
    "        # Step 3: Quantize the image\n",
    "        quantized_img = np.zeros_like(img_flat)\n",
    "        for i in range(k):\n",
    "            # Apply the same mask logic to assign mean to each pixel\n",
    "            mask = (img_flat >= boundaries[i]) & (img_flat < boundaries[i+1])\n",
    "            quantized_img[mask] = means[i]\n",
    "        quantized_img = quantized_img.reshape(img.shape)\n",
    "\n",
    "        # Step 4: Compute mean squared error\n",
    "        mse = np.sqrt(np.mean((img - quantized_img) ** 2))\n",
    "        print(f\"Iteration {iteration+1}: MSE = {mse:.2f}\")\n",
    "\n",
    "        # Step 5: Check for convergence\n",
    "        if prev_mse is not None and abs(prev_mse - mse) < 0.01:\n",
    "            break\n",
    "        prev_mse = mse\n",
    "\n",
    "    return quantized_img.astype(np.uint8)\n",
    "\n",
    "multi_img = multi_level_quantization(img_array, 2)    ### Play with k value\n",
    "plt.imshow(multi_img, cmap='gray')\n",
    "plt.title('Multi-level Quantized Image')\n",
    "plt.axis('off')\n",
    "plt.show()"
   ]
  }
 ],
 "metadata": {
  "kernelspec": {
   "display_name": "Python 3",
   "language": "python",
   "name": "python3"
  },
  "language_info": {
   "codemirror_mode": {
    "name": "ipython",
    "version": 3
   },
   "file_extension": ".py",
   "mimetype": "text/x-python",
   "name": "python",
   "nbconvert_exporter": "python",
   "pygments_lexer": "ipython3",
   "version": "3.10.11"
  }
 },
 "nbformat": 4,
 "nbformat_minor": 2
}
