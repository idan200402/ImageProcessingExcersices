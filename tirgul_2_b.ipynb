{
 "cells": [
  {
   "cell_type": "code",
   "execution_count": 51,
   "metadata": {},
   "outputs": [],
   "source": [
    "import numpy as np"
   ]
  },
  {
   "cell_type": "code",
   "execution_count": 52,
   "metadata": {},
   "outputs": [
    {
     "name": "stdout",
     "output_type": "stream",
     "text": [
      "Original Image Matrix:\n",
      "[[ 10.  30.  50.  70.]\n",
      " [ 20.  40.  60.  80.]\n",
      " [ 30.  50.  70.  90.]\n",
      " [ 40.  60.  80. 100.]]\n"
     ]
    }
   ],
   "source": [
    "### Play with the code below by giving different arrays  \n",
    "image = np.array([\n",
    "    [10, 30, 50, 70],\n",
    "    [20, 40, 60, 80],\n",
    "    [30, 50, 70, 90],\n",
    "    [40, 60, 80, 100]\n",
    "], dtype=np.float32)\n",
    "\n",
    "print(\"Original Image Matrix:\")\n",
    "print(image)"
   ]
  },
  {
   "cell_type": "code",
   "execution_count": 53,
   "metadata": {},
   "outputs": [
    {
     "data": {
      "image/png": "[encoded data removed]",
      "text/plain": [
       "<Figure size 400x400 with 1 Axes>"
      ]
     },
     "metadata": {},
     "output_type": "display_data"
    }
   ],
   "source": [
    "# Display the image visually\n",
    "plt.figure(figsize=(4,4))\n",
    "plt.imshow(image, cmap='gray', vmin=10, vmax=100)\n",
    "plt.title(\"Original Grayscale Image\")\n",
    "plt.axis('off')\n",
    "plt.show()"
   ]
  },
  {
   "cell_type": "code",
   "execution_count": 54,
   "metadata": {},
   "outputs": [],
   "source": [
    "# Set the number of quantization levels\n",
    "K = 3"
   ]
  },
  {
   "cell_type": "code",
   "execution_count": 55,
   "metadata": {},
   "outputs": [],
   "source": [
    "# Determine the global min and max in the image.\n",
    "min_val, max_val = image.min(), image.max()"
   ]
  },
  {
   "cell_type": "code",
   "execution_count": 56,
   "metadata": {},
   "outputs": [
    {
     "name": "stdout",
     "output_type": "stream",
     "text": [
      "\n",
      "Initial Boundaries: [ 10.  40.  70. 100.]\n"
     ]
    }
   ],
   "source": [
    "# Initialize boundaries as evenly spaced points between min and max.\n",
    "boundaries = np.linspace(min_val, max_val, K+1)  # e.g., [10, 40, 70, 100]\n",
    "print(\"\\nInitial Boundaries:\", boundaries)"
   ]
  },
  {
   "cell_type": "code",
   "execution_count": 57,
   "metadata": {},
   "outputs": [
    {
     "name": "stdout",
     "output_type": "stream",
     "text": [
      "Initial Centroids: [25. 55. 85.]\n"
     ]
    }
   ],
   "source": [
    "# Initialize centroids as the midpoint of each interval.\n",
    "centroids = np.array([(boundaries[i] + boundaries[i+1]) / 2 for i in range(K)])\n",
    "print(\"Initial Centroids:\", centroids)"
   ]
  },
  {
   "cell_type": "code",
   "execution_count": 58,
   "metadata": {},
   "outputs": [
    {
     "name": "stdout",
     "output_type": "stream",
     "text": [
      "\n",
      "Pixel Intensity Counts:\n",
      "Intensity 10: 1 pixels\n",
      "Intensity 20: 1 pixels\n",
      "Intensity 30: 2 pixels\n",
      "Intensity 40: 2 pixels\n",
      "Intensity 50: 2 pixels\n",
      "Intensity 60: 2 pixels\n",
      "Intensity 70: 2 pixels\n",
      "Intensity 80: 2 pixels\n",
      "Intensity 90: 1 pixels\n",
      "Intensity 100: 1 pixels\n"
     ]
    }
   ],
   "source": [
    "# Compute and print the frequency of each intensity in the image.\n",
    "unique_values, counts = np.unique(image, return_counts=True)\n",
    "print(\"\\nPixel Intensity Counts:\")\n",
    "for value, count in zip(unique_values, counts):\n",
    "    print(f\"Intensity {value:.0f}: {count} pixels\")"
   ]
  },
  {
   "cell_type": "code",
   "execution_count": 59,
   "metadata": {},
   "outputs": [
    {
     "name": "stdout",
     "output_type": "stream",
     "text": [
      "\n",
      "Calculation of Initial Centroids:\n",
      "Interval 1: (10.0 + 40.0) / 2 = 25.0\n",
      "Interval 2: (40.0 + 70.0) / 2 = 55.0\n",
      "Interval 3: (70.0 + 100.0) / 2 = 85.0\n"
     ]
    }
   ],
   "source": [
    "# Detailed calculation of initial centroids\n",
    "print(\"\\nCalculation of Initial Centroids:\")\n",
    "for i in range(K):\n",
    "    left = boundaries[i]\n",
    "    right = boundaries[i+1]\n",
    "    centroid = (left + right) / 2\n",
    "    print(f\"Interval {i+1}: ({left} + {right}) / 2 = {centroid}\")"
   ]
  },
  {
   "cell_type": "code",
   "execution_count": 60,
   "metadata": {},
   "outputs": [],
   "source": [
    "def quantize_image(image, boundaries, centroids):\n",
    "    \"\"\"\n",
    "    Given an image, boundaries, and centroids,\n",
    "    assign each pixel to the centroid corresponding to the interval the pixel falls in.\n",
    "    \"\"\"\n",
    "    quantized = np.zeros_like(image, dtype=np.float32)\n",
    "    for i in range(K):\n",
    "        # For clusters except the last, pixels equal to the right boundary are excluded.\n",
    "        if i < K - 1:\n",
    "            mask = (image >= boundaries[i]) & (image < boundaries[i+1])\n",
    "        else:\n",
    "            mask = (image >= boundaries[i]) & (image <= boundaries[i+1])\n",
    "        quantized[mask] = centroids[i]\n",
    "    return quantized"
   ]
  },
  {
   "cell_type": "code",
   "execution_count": 61,
   "metadata": {},
   "outputs": [
    {
     "name": "stdout",
     "output_type": "stream",
     "text": [
      "\n",
      "Iteration 1 Quantized Image Matrix:\n",
      "[[25. 25. 55. 85.]\n",
      " [25. 55. 55. 85.]\n",
      " [25. 55. 85. 85.]\n",
      " [55. 55. 85. 85.]]\n",
      "Updated Centroids: [22.5        50.         81.66666412]\n",
      "Updated Boundaries: [ 10.          36.25        65.83333206 100.        ]\n",
      "\n",
      "Iteration 2 Quantized Image Matrix:\n",
      "[[22.5      22.5      50.       81.666664]\n",
      " [22.5      50.       50.       81.666664]\n",
      " [22.5      50.       81.666664 81.666664]\n",
      " [50.       50.       81.666664 81.666664]]\n",
      "Updated Centroids: [22.5        50.         81.66666412]\n",
      "Updated Boundaries: [ 10.          36.25        65.83333206 100.        ]\n",
      "\n",
      "Iteration 3 Quantized Image Matrix:\n",
      "[[22.5      22.5      50.       81.666664]\n",
      " [22.5      50.       50.       81.666664]\n",
      " [22.5      50.       81.666664 81.666664]\n",
      " [50.       50.       81.666664 81.666664]]\n",
      "Updated Centroids: [22.5        50.         81.66666412]\n",
      "Updated Boundaries: [ 10.          36.25        65.83333206 100.        ]\n",
      "\n",
      "Iteration 4 Quantized Image Matrix:\n",
      "[[22.5      22.5      50.       81.666664]\n",
      " [22.5      50.       50.       81.666664]\n",
      " [22.5      50.       81.666664 81.666664]\n",
      " [50.       50.       81.666664 81.666664]]\n",
      "Updated Centroids: [22.5        50.         81.66666412]\n",
      "Updated Boundaries: [ 10.          36.25        65.83333206 100.        ]\n",
      "\n",
      "Iteration 5 Quantized Image Matrix:\n",
      "[[22.5      22.5      50.       81.666664]\n",
      " [22.5      50.       50.       81.666664]\n",
      " [22.5      50.       81.666664 81.666664]\n",
      " [50.       50.       81.666664 81.666664]]\n",
      "Updated Centroids: [22.5        50.         81.66666412]\n",
      "Updated Boundaries: [ 10.          36.25        65.83333206 100.        ]\n"
     ]
    }
   ],
   "source": [
    "# Perform iterative quantization for 5 iterations.\n",
    "iterations = 5\n",
    "\n",
    "for it in range(iterations):\n",
    "    # Step 1: Quantize the image with the current centroids and boundaries.\n",
    "    quantized_image = quantize_image(image, boundaries, centroids)\n",
    "    \n",
    "    print(f\"\\nIteration {it+1} Quantized Image Matrix:\")\n",
    "    print(quantized_image)\n",
    "    \n",
    "    # Step 2: Update centroids.\n",
    "    new_centroids = np.zeros_like(centroids)\n",
    "    for i in range(K):\n",
    "        # Define the mask for pixels in the i-th cluster.\n",
    "        if i < K - 1:\n",
    "            mask = (image >= boundaries[i]) & (image < boundaries[i+1])\n",
    "        else:\n",
    "            mask = (image >= boundaries[i]) & (image <= boundaries[i+1])\n",
    "        if np.sum(mask) > 0:\n",
    "            new_centroids[i] = np.mean(image[mask])\n",
    "        else:\n",
    "            new_centroids[i] = centroids[i]  # If no pixel falls in the cluster, keep the old value.\n",
    "    \n",
    "    # Step 3: Update boundaries.\n",
    "    new_boundaries = boundaries.copy()\n",
    "    for i in range(1, K):\n",
    "        new_boundaries[i] = (new_centroids[i-1] + new_centroids[i]) / 2\n",
    "    \n",
    "    # Print updated centroids and boundaries for this iteration.\n",
    "    print(\"Updated Centroids:\", new_centroids)\n",
    "    print(\"Updated Boundaries:\", new_boundaries)\n",
    "    \n",
    "    # Update centroids and boundaries for the next iteration.\n",
    "    centroids = new_centroids\n",
    "    boundaries = new_boundaries"
   ]
  }
 ],
 "metadata": {
  "kernelspec": {
   "display_name": "Python 3",
   "language": "python",
   "name": "python3"
  },
  "language_info": {
   "codemirror_mode": {
    "name": "ipython",
    "version": 3
   },
   "file_extension": ".py",
   "mimetype": "text/x-python",
   "name": "python",
   "nbconvert_exporter": "python",
   "pygments_lexer": "ipython3",
   "version": "3.10.11"
  }
 },
 "nbformat": 4,
 "nbformat_minor": 2
}
